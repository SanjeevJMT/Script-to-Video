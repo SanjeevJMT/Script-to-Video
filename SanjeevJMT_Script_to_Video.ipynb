{
  "cells": [
    {
      "cell_type": "markdown",
      "metadata": {
        "colab_type": "text",
        "id": "view-in-github"
      },
      "source": [
        "<a href=\"https://colab.research.google.com/github/SanjeevJMT/Script-to-Video/blob/main/SanjeevJMT_Script_to_Video.ipynb\" target=\"_parent\"><img src=\"https://colab.research.google.com/assets/colab-badge.svg\" alt=\"Open In Colab\"/></a>"
      ]
    },
    {
      "cell_type": "code",
      "execution_count": null,
      "metadata": {
        "colab": {
          "base_uri": "https://localhost:8080/"
        },
        "id": "zXstGNRFFRn2",
        "outputId": "c463a63f-89b5-41c8-eada-b7c575053c9e"
      },
      "outputs": [],
      "source": [
        "!pip install moviepy==2.1.2\n",
        "!pip install google_images_download\n",
        "!pip install pyttsx3\n",
        "!pip install gTTS\n",
        "!pip install edge_tts\n",
        "!pip install nltk\n",
        "!pip install spacy\n",
        "!pip install tqdm\n",
        "!pip install requests\n",
        "!pip install deep_translator==1.9.0\n",
        "!pip install langdetect\n",
        "!apt install espeak"
      ]
    },
    {
      "cell_type": "markdown",
      "metadata": {
        "id": "dBs31XQJKnzB"
      },
      "source": [
        "**Additional Setup**"
      ]
    },
    {
      "cell_type": "code",
      "execution_count": null,
      "metadata": {
        "colab": {
          "base_uri": "https://localhost:8080/"
        },
        "id": "k3cu-sFkKYrq",
        "outputId": "b0f8886b-3d7f-409c-d0e4-f500c417176c"
      },
      "outputs": [],
      "source": [
        "# Download required NLTK data\n",
        "!python -m nltk.downloader punkt\n",
        "\n",
        "# Download SpaCy English model\n",
        "!python -m spacy download en_core_web_sm"
      ]
    },
    {
      "cell_type": "code",
      "execution_count": 1,
      "metadata": {
        "colab": {
          "base_uri": "https://localhost:8080/"
        },
        "id": "Pq5Hqx7XMSzm",
        "outputId": "b8e9c074-b7fc-4742-dddd-4ac6ac1a4666"
      },
      "outputs": [
        {
          "name": "stdout",
          "output_type": "stream",
          "text": [
            "Cloning into 'Script-to-Video'...\n",
            "remote: Enumerating objects: 72, done.\u001b[K\n",
            "remote: Total 72 (delta 0), reused 0 (delta 0), pack-reused 72 (from 1)\u001b[K\n",
            "Receiving objects: 100% (72/72), 46.94 MiB | 35.74 MiB/s, done.\n",
            "Resolving deltas: 100% (34/34), done.\n"
          ]
        }
      ],
      "source": [
        "!git clone https://github.com/SanjeevJMT/Script-to-Video.git"
      ]
    },
    {
      "cell_type": "code",
      "execution_count": 2,
      "metadata": {
        "colab": {
          "base_uri": "https://localhost:8080/"
        },
        "id": "phl0qt9xJEP5",
        "outputId": "b4e10ded-13e5-4a93-b56b-f17d23f400fb"
      },
      "outputs": [
        {
          "name": "stdout",
          "output_type": "stream",
          "text": [
            "/content/Script-to-Video\n",
            "/content/Script-to-Video\n",
            "app.py\t\t     output\t requirements.txt   video_creator.py\n",
            "config.json\t     prompt.txt  text_to_speech.py  video_downloader.py\n",
            "image_downloader.py  README.md\t video_creator2.py\n"
          ]
        }
      ],
      "source": [
        "\n",
        "\n",
        "%cd Script-to-Video/\n",
        "! pwd\n",
        "! ls"
      ]
    },
    {
      "cell_type": "markdown",
      "metadata": {
        "id": "ASaqZI6HLWUQ"
      },
      "source": [
        "Run "
      ]
    },
    {
      "cell_type": "code",
      "execution_count": null,
      "metadata": {
        "colab": {
          "base_uri": "https://localhost:8080/"
        },
        "id": "NsYCWYCqMK0a",
        "outputId": "99a90f27-985e-433c-d9cd-c8a0dacaf044"
      },
      "outputs": [],
      "source": [
        "!python3.11 app.py --script prompt.txt"
      ]
    },
    {
      "cell_type": "markdown",
      "metadata": {},
      "source": [
        "If above commands runs successhully, you can see the video file in output folder and download it.      \n",
        "  Only run Below two commands, If you want to copy output video file to your drive. \n",
        "\n",
        "  DONT Forget to give a star to my github repo : https://github.com/SanjeevJMT/Script-to-Video"
      ]
    },
    {
      "cell_type": "code",
      "execution_count": null,
      "metadata": {},
      "outputs": [],
      "source": [
        "#Connect your drive \n",
        "from google.colab import drive\n",
        "drive.mount('/content/drive')"
      ]
    },
    {
      "cell_type": "code",
      "execution_count": null,
      "metadata": {},
      "outputs": [],
      "source": [
        "#Copy video to your drive folder.\n",
        "#Modify below command as per your drive folder \n",
        "!cp /content/Script-to-Video/output/someFIle.mp4 /content/drive/mydrive/<SOME-FOLDER>/"
      ]
    },
    {
      "cell_type": "markdown",
      "metadata": {},
      "source": []
    }
  ],
  "metadata": {
    "colab": {
      "authorship_tag": "ABX9TyOsvdxuz2SdwjEGXjqcYr93",
      "include_colab_link": true,
      "provenance": []
    },
    "kernelspec": {
      "display_name": "Python 3",
      "name": "python3"
    },
    "language_info": {
      "name": "python"
    }
  },
  "nbformat": 4,
  "nbformat_minor": 0
}
